{
 "cells": [
  {
   "cell_type": "markdown",
   "id": "bbda327b-9467-4034-a3f9-1075ad10b413",
   "metadata": {},
   "source": [
    "# Various methods (you must run all cells)"
   ]
  },
  {
   "cell_type": "markdown",
   "id": "064fc724-c482-4128-8841-c3c370224092",
   "metadata": {
    "jp-MarkdownHeadingCollapsed": true
   },
   "source": [
    "## Define the styles for all plots"
   ]
  },
  {
   "cell_type": "code",
   "execution_count": 130,
   "id": "b3ed0507-807d-4fce-a1f2-db9e2f75d103",
   "metadata": {},
   "outputs": [],
   "source": [
    "method_styles = {\n",
    "    'Saliency': {'color':'#800000','marker':'s'},\n",
    "    'IxG-raw':      {'color':'#ff7f00','marker':'o'},\n",
    "    'IxG-abs':      {'color':'#ffff99','marker':'s'},\n",
    "    'IxG-SG-raw':   {'color':'#fb9a99','marker':'o'},\n",
    "    'IxG-SG-abs':   {'color':'#999999','marker':'s'},\n",
    "    'IG-raw':       {'color':'#b15928','marker':'o'},\n",
    "    'IG-abs':       {'color':'#2c7bb6','marker':'s'},\n",
    "    'IG-U-raw':     {'color':'#6a3d9a','marker':'o'},\n",
    "    'IG-U-abs':     {'color':'#e31a1c','marker':'s'},\n",
    "    'IG-SG-raw':    {'color':'#1f78b4','marker':'o'},\n",
    "    'IG-SG-abs':    {'color':'#fdbf6f','marker':'s'},\n",
    "    'IG-SG-SQ':     {'color':'#08519c','marker':'s'},\n",
    "    'Grad-CAM':     {'color':'#ff7f00','marker':'D'},\n",
    "    'Grad-CAMpp':   {'color':'#cab2d6','marker':'D'},\n",
    "    'SG-CAMpp':     {'color':'#b2df8a','marker':'D'},\n",
    "    'XG-CAM':       {'color':'#fb9a99','marker':'D'},\n",
    "    'Layer-CAM':    {'color':'#8c510a','marker':'D'},\n",
    "    'Edge-Sobel':          {'color':'#1a9850','marker':'>'},\n",
    "    'Edge-Gradient':       {'color':'#d73027','marker':'>'},\n",
    "    'Edge-Canny':          {'color':'#4575b4','marker':'>'},\n",
    "    'Edge-Marr-Hildreth':  {'color':'#fdae61','marker':'>'},\n",
    "    'Frequency-low':   {'color':'#17becf','marker':'+'},\n",
    "    'Frequency-band':  {'color':'#bcbd22','marker':'+'},\n",
    "    'Frequency-high':  {'color':'#e7ba52','marker':'+'},\n",
    "}\n",
    "\n",
    "grad_family = {'Saliency', 'IxG-raw', 'IxG-abs', 'IxG-SG-raw', 'IxG-SG-abs'}\n",
    "ig_family   = [m for m in method_styles if m.startswith('IG-')]\n",
    "cam_family  = [m for m in method_styles if 'CAM' in m]\n",
    "\n",
    "# enforce markers\n",
    "for m in grad_family:\n",
    "    # circle for all gradient-based\n",
    "    method_styles[m]['marker'] = 'o'\n",
    "\n",
    "for m in ig_family:\n",
    "    # square for all IG-based\n",
    "    method_styles[m]['marker'] = 's'\n",
    "\n",
    "for m in cam_family:\n",
    "    # diamond for all CAM-based\n",
    "    method_styles[m]['marker'] = 'D'"
   ]
  },
  {
   "cell_type": "markdown",
   "id": "999fd904-2c21-437c-8284-53b200e4bca9",
   "metadata": {},
   "source": [
    "## Utils"
   ]
  },
  {
   "cell_type": "code",
   "execution_count": 131,
   "id": "4f96e2e6-6843-4364-acd7-addba4a79477",
   "metadata": {},
   "outputs": [],
   "source": [
    "import pandas as pd\n",
    "import matplotlib.pyplot as plt\n",
    "\n",
    "# Returns data dictionary: method→{model→value} dict\n",
    "\n",
    "def load_data(file_path):\n",
    "    df = pd.read_csv(file_path, header=None, names=['model','method','value'])\n",
    "    df['method'] = df['method'].replace({'Gradient-abs': 'Saliency'})\n",
    "    df['method'] = df['method'].replace({'IG-SG-SQ-abs': 'IG-SG-SQ'})\n",
    "    df['method'] = df['method'].str.replace(r'^Dummy-', '', regex=True)\n",
    "\n",
    "    method_dict = {}\n",
    "    for _,row in df.iterrows():\n",
    "        method_dict.setdefault(row.method, {})[row.model] = row.value\n",
    "\n",
    "    all_methods = set(df['method'].unique())\n",
    "\n",
    "    x_values = df['value']\n",
    "    \n",
    "    return method_dict, all_methods, x_values"
   ]
  },
  {
   "cell_type": "code",
   "execution_count": 132,
   "id": "f25ea9b5-6f1e-4749-9d05-cc363dcd5cc1",
   "metadata": {},
   "outputs": [],
   "source": [
    "## Hardcoded models so they are shown in the desired order and mapped to nice names\n",
    "\n",
    "def get_y_map():\n",
    "    model_order = [\n",
    "        'resnet18', 'resnet50', 'resnet101', 'resnet152',\n",
    "        'wide_resnet50_2', 'fixup_resnet50', 'x_resnet50',\n",
    "        'vgg11', 'vgg13', 'vgg16', 'vgg19',\n",
    "        'vgg16_bn', 'x_vgg16',\n",
    "    ]\n",
    "    model_order.reverse() \n",
    "\n",
    "    label_map = {\n",
    "        'resnet18':        'ResNet-18',\n",
    "        'resnet50':        'ResNet-50',\n",
    "        'resnet101':       'ResNet-101',\n",
    "        'resnet152':       'ResNet-152',\n",
    "        'wide_resnet50_2': 'Wide ResNet-50',\n",
    "        'fixup_resnet50':  'Fixup ResNet-50',\n",
    "        'x_resnet50':      'xResNet-50',\n",
    "        'vgg11':           'VGG-11',\n",
    "        'vgg13':           'VGG-13',\n",
    "        'vgg16':           'VGG-16',\n",
    "        'vgg19':           'VGG-19',\n",
    "        'vgg16_bn':        'VGG-16 (BN)',\n",
    "        'x_vgg16':         'xVGG-16',\n",
    "    }\n",
    "\n",
    "    return {\n",
    "        model: (i, label_map[model])\n",
    "        for i, model in enumerate(model_order)\n",
    "    }"
   ]
  },
  {
   "cell_type": "code",
   "execution_count": 133,
   "id": "acac2cfa-6a53-4b7b-858c-3dc9bd99fd68",
   "metadata": {},
   "outputs": [],
   "source": [
    "def get_y_map_cifar():\n",
    "    model_order = [\n",
    "        'cifar100_resnet20', 'cifar100_resnet32',\n",
    "        'cifar100_resnet44', 'cifar100_resnet56',\n",
    "        'cifar100_vgg11_bn','cifar100_vgg13_bn',\n",
    "        'cifar100_vgg16_bn','cifar100_vgg19_bn',\n",
    "    ]\n",
    "    # if you like ascending on the y‐axis:\n",
    "    model_order.reverse()\n",
    "    \n",
    "    name_map = {\n",
    "        'cifar100_resnet20':  'ResNet-20',\n",
    "        'cifar100_resnet32':  'ResNet-32',\n",
    "        'cifar100_resnet44':  'ResNet-44',\n",
    "        'cifar100_resnet56':  'ResNet-56',\n",
    "        'cifar100_vgg11_bn':  'VGG-11 (BN)',\n",
    "        'cifar100_vgg13_bn':  'VGG-13 (BN)',\n",
    "        'cifar100_vgg16_bn':  'VGG-16 (BN)',\n",
    "        'cifar100_vgg19_bn':  'VGG-19 (BN)',\n",
    "    }\n",
    "\n",
    "    return {\n",
    "        model: (i, name_map[model])\n",
    "        for i, model in enumerate(model_order)\n",
    "    }"
   ]
  },
  {
   "cell_type": "code",
   "execution_count": 134,
   "id": "b3bd0e7f-fa66-4d2e-937d-e1867d5d6b15",
   "metadata": {},
   "outputs": [],
   "source": [
    "def should_skip(method):\n",
    "    if method in keep_methods:\n",
    "        return False\n",
    "    for pref in keep_prefixes:\n",
    "        if method.startswith(pref):\n",
    "            return False\n",
    "    if method in skip_methods:\n",
    "            return True\n",
    "    return any(method.startswith(p) for p in skip_prefixes)"
   ]
  },
  {
   "cell_type": "code",
   "execution_count": 135,
   "id": "322148c9-a1b1-4bae-a415-a0def3a0da34",
   "metadata": {},
   "outputs": [],
   "source": [
    "def plot(y_map, all_methods, method_styles, x_values, filename):\n",
    "    \n",
    "    fig, ax = plt.subplots(figsize=(8,6))\n",
    "    for model, (y, label) in y_map.items():\n",
    "        ax.axhline(y, color='lightgray', linestyle='--', zorder=0)\n",
    "\n",
    "    items = sorted(y_map.items(), key=lambda kv: kv[1])\n",
    "    prev = {}\n",
    "    for model, (y, label) in items:\n",
    "        \n",
    "        for method, scores in method_dict.items():\n",
    "            \n",
    "            if should_skip(method):\n",
    "              continue\n",
    "    \n",
    "            if model not in scores: \n",
    "              continue\n",
    "                \n",
    "            x = scores[model]\n",
    "    \n",
    "            # --- override for Dummy families ---\n",
    "            if method.startswith('Entropy'):\n",
    "                style = {'color':'black','marker':'X'}  # big X\n",
    "            elif method.startswith('Gaussian'):\n",
    "                style = {'color':'black','marker':'v'}  # downward triangle\n",
    "            elif method.startswith('Random'):\n",
    "                style = {'color':'black','marker':'*'}  # star\n",
    "            else:\n",
    "                style = method_styles.get(method, {'color':'black','marker':'o'})\n",
    "\n",
    "            ax.plot(x, y, marker=style['marker'],\n",
    "                    color=style['color'], markersize=8, linestyle='', zorder=3)\n",
    "\n",
    "            if method in prev:\n",
    "                x0, y0 = prev[method]\n",
    "                ax.plot([x0, x], [y0, y],\n",
    "                        color=style['color'],\n",
    "                        linewidth=1,\n",
    "                        alpha=0.6,\n",
    "                        zorder=2)\n",
    "\n",
    "            prev[method] = (x, y)\n",
    "\n",
    "    ax.set_yticks([y for _, (y, _) in items])\n",
    "    ax.set_yticklabels([label for _, (_, label) in items])\n",
    "    ax.set_xlabel('Attribution score')\n",
    "    ax.set_title('IDSDS - Ascending')\n",
    "    rng = x_values\n",
    "    ax.set_xlim(rng.min()-0.05, rng.max()+0.05)\n",
    "    plt.tight_layout()\n",
    "\n",
    "    fig.savefig(f\"visualisations/{filename}\", dpi=300, bbox_inches='tight')\n",
    "    plt.close(fig)\n",
    "    \n",
    "    plt.show()\n",
    "    "
   ]
  },
  {
   "cell_type": "markdown",
   "id": "dcca7e06-df1b-4143-885f-38f4d65ed9c3",
   "metadata": {},
   "source": [
    "# Show Plots"
   ]
  },
  {
   "cell_type": "markdown",
   "id": "9ac11922-0cf8-4249-b92b-77aa2c58282e",
   "metadata": {},
   "source": [
    "## Load the data (make sure you run it before you run the plots)"
   ]
  },
  {
   "cell_type": "code",
   "execution_count": 136,
   "id": "88a013f0-85c4-41e4-9c11-28dc96f8ae58",
   "metadata": {},
   "outputs": [],
   "source": [
    "file_path = 'results/1 evaluate_all_methods_with_baseline - results.csv' \n",
    "method_dict, all_methods, x_values = load_data(file_path)\n",
    "y_map = get_y_map()"
   ]
  },
  {
   "cell_type": "code",
   "execution_count": 137,
   "id": "eb4f56b9-9be4-455a-b445-e2697d5967a2",
   "metadata": {},
   "outputs": [],
   "source": [
    "# We always need to skip Gradient-raw\n",
    "skip_methods  = {'Gradient-raw'}\n",
    "skip_prefixes = []\n",
    "keep_methods = set()\n",
    "keep_prefixes = []"
   ]
  },
  {
   "cell_type": "markdown",
   "id": "2f1775b2-0fca-4801-906e-4b769265fe39",
   "metadata": {},
   "source": [
    "## Show all plots"
   ]
  },
  {
   "cell_type": "code",
   "execution_count": 138,
   "id": "e5206281-2306-4b8e-a103-a66671eaf780",
   "metadata": {},
   "outputs": [],
   "source": [
    "plot(y_map, all_methods, method_styles, x_values, \"evaluate_all_methods_with_baseline/all-evaluations.png\")"
   ]
  },
  {
   "cell_type": "markdown",
   "id": "af9c72f6-1e0b-4a37-a925-714e2d92c495",
   "metadata": {},
   "source": [
    "## Show only dummy plots"
   ]
  },
  {
   "cell_type": "code",
   "execution_count": 139,
   "id": "6c04531c-b343-40d8-b418-99476fdfc9dd",
   "metadata": {
    "scrolled": true
   },
   "outputs": [],
   "source": [
    "skip_methods = set(all_methods)\n",
    "skip_prefixes = []\n",
    "keep_methods = {'Frequency-low','Frequency-band','Frequency-high', 'Edge-Sobel', 'Edge-Gradient', 'Edge-Canny', 'Edge-Marr-Hildreth'}\n",
    "keep_prefixes = ['Entropy','Gaussian','Random']\n",
    "skip_methods -= keep_methods\n",
    "\n",
    "plot(y_map, all_methods, method_styles, x_values, \"evaluate_all_methods_with_baseline/dummy_only.png\")"
   ]
  },
  {
   "cell_type": "markdown",
   "id": "411146c2-bfe5-46ed-b6a9-a4a19c958873",
   "metadata": {},
   "source": [
    "## Show only Saliency and IxG"
   ]
  },
  {
   "cell_type": "code",
   "execution_count": 140,
   "id": "67dd62f7-1567-439f-97b4-28dcf65845b9",
   "metadata": {},
   "outputs": [],
   "source": [
    "skip_methods = set(all_methods)\n",
    "skip_prefixes = []\n",
    "keep_methods = {'Saliency','IxG-raw','IxG-SG-raw','IxG-abs', 'IxG-SG-abs'}\n",
    "keep_prefixes = []\n",
    "skip_methods -= keep_methods\n",
    "\n",
    "plot(y_map, all_methods, method_styles, x_values, \"evaluate_all_methods_with_baseline/saliency_IxG.png\")"
   ]
  },
  {
   "cell_type": "markdown",
   "id": "7040df9e-2b35-4445-b81e-311e0226c4d3",
   "metadata": {},
   "source": [
    "##  Show only IG"
   ]
  },
  {
   "cell_type": "code",
   "execution_count": 141,
   "id": "659fb1f2-17e8-47b7-ac65-f2bdf2e95cb2",
   "metadata": {},
   "outputs": [],
   "source": [
    "skip_methods = set(all_methods)\n",
    "skip_prefixes = []\n",
    "keep_methods = {'IG-raw','IG-abs','IG-U-raw','IG-U-abs', 'IG-SG-raw', 'IG-SG-abs', 'IG-SG-SQ'}\n",
    "keep_prefixes = []\n",
    "skip_methods -= keep_methods\n",
    "\n",
    "plot(y_map, all_methods, method_styles, x_values, \"evaluate_all_methods_with_baseline/IG_only.png\")"
   ]
  },
  {
   "cell_type": "markdown",
   "id": "58e8827b-2066-4fc8-8f7b-2d41fc31c72b",
   "metadata": {},
   "source": [
    "## Show only CAM"
   ]
  },
  {
   "cell_type": "code",
   "execution_count": 142,
   "id": "d86fb72d-c110-4391-a70c-2b156b2d4e4c",
   "metadata": {},
   "outputs": [],
   "source": [
    "skip_methods = set(all_methods)\n",
    "skip_prefixes = []\n",
    "keep_methods = {'Grad-CAM','Grad-CAMpp','SG-CAMpp','XG-CAM', 'Layer-CAM'}\n",
    "keep_prefixes = []\n",
    "\n",
    "plot(y_map, all_methods, method_styles, x_values, \"CAM_only.png\")"
   ]
  },
  {
   "cell_type": "markdown",
   "id": "874b0c52-bc9c-4a8a-ade3-366bf168ff9a",
   "metadata": {},
   "source": [
    "# Show Cifar plot"
   ]
  },
  {
   "cell_type": "code",
   "execution_count": 143,
   "id": "2678ebeb-0511-4b72-be39-ded048080896",
   "metadata": {},
   "outputs": [],
   "source": [
    "file_path = 'results/3 train_and_evaluate_cifar - results.csv' \n",
    "method_dict, all_methods, x_values = load_data(file_path)\n",
    "y_map = get_y_map_cifar()"
   ]
  },
  {
   "cell_type": "code",
   "execution_count": 144,
   "id": "a7225aa1-2d32-47c8-8adf-830f5fcc83fb",
   "metadata": {},
   "outputs": [],
   "source": [
    "skip_methods  = {'Gradient-raw'}\n",
    "skip_prefixes = []\n",
    "keep_methods = set()\n",
    "keep_prefixes = []\n",
    "plot(y_map, all_methods, method_styles, x_values, \"cifar-all-evaluations.png\")"
   ]
  },
  {
   "cell_type": "markdown",
   "id": "e61d5bc5-c5d6-4012-b344-98b0da31c220",
   "metadata": {},
   "source": [
    "## Saliency only"
   ]
  },
  {
   "cell_type": "code",
   "execution_count": 145,
   "id": "0c19b899-97b8-41ca-bff1-18eda4338d8e",
   "metadata": {},
   "outputs": [],
   "source": [
    "skip_methods = set(all_methods)\n",
    "skip_prefixes = []\n",
    "keep_methods = {'Saliency','IxG-raw','IxG-SG-raw','IxG-abs', 'IxG-SG-abs'}\n",
    "keep_prefixes = []\n",
    "skip_methods -= keep_methods\n",
    "\n",
    "plot(y_map, all_methods, method_styles, x_values, \"cifar_saliency_IxG.png\")"
   ]
  },
  {
   "cell_type": "markdown",
   "id": "2aa8004b-fae9-4609-8ef2-0f7b63d97103",
   "metadata": {},
   "source": [
    "## IG only"
   ]
  },
  {
   "cell_type": "code",
   "execution_count": 146,
   "id": "2b37716f-7d8a-400d-9521-4aa64a23612d",
   "metadata": {},
   "outputs": [],
   "source": [
    "skip_methods = set(all_methods)\n",
    "skip_prefixes = []\n",
    "keep_methods = {'IG-raw','IG-abs','IG-U-raw','IG-U-abs', 'IG-SG-raw', 'IG-SG-abs', 'IG-SG-SQ'}\n",
    "keep_prefixes = []\n",
    "skip_methods -= keep_methods\n",
    "\n",
    "plot(y_map, all_methods, method_styles, x_values, \"cifar_IG_only.png\")"
   ]
  },
  {
   "cell_type": "markdown",
   "id": "2d2b3196-f5d8-4ecd-a875-2b4d56c6b0cb",
   "metadata": {},
   "source": [
    "## Only CAM"
   ]
  },
  {
   "cell_type": "code",
   "execution_count": 147,
   "id": "48ec3a15-a017-4d14-b8cd-614124a6a280",
   "metadata": {},
   "outputs": [],
   "source": [
    "skip_methods = set(all_methods)\n",
    "skip_prefixes = []\n",
    "keep_methods = {'Grad-CAM','Grad-CAMpp','SG-CAMpp','XG-CAM', 'Layer-CAM'}\n",
    "keep_prefixes = []\n",
    "\n",
    "plot(y_map, all_methods, method_styles, x_values, \"cifar_CAM_only.png\")"
   ]
  },
  {
   "cell_type": "code",
   "execution_count": null,
   "id": "e1b2f501-a9d9-4612-8616-bc2df7a8a7b8",
   "metadata": {},
   "outputs": [],
   "source": []
  }
 ],
 "metadata": {
  "kernelspec": {
   "display_name": "Python 3 (ipykernel)",
   "language": "python",
   "name": "python3"
  },
  "language_info": {
   "codemirror_mode": {
    "name": "ipython",
    "version": 3
   },
   "file_extension": ".py",
   "mimetype": "text/x-python",
   "name": "python",
   "nbconvert_exporter": "python",
   "pygments_lexer": "ipython3",
   "version": "3.12.3"
  }
 },
 "nbformat": 4,
 "nbformat_minor": 5
}
