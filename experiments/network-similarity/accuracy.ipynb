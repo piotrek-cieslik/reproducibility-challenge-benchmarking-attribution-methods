{
 "cells": [
  {
   "cell_type": "code",
   "execution_count": 1,
   "id": "50484d72-ae6a-4c42-b92a-6310373e6f3f",
   "metadata": {},
   "outputs": [],
   "source": [
    "import torch\n",
    "import utils\n",
    "\n",
    "from idsds.models.resnet import resnet18, resnet50, resnet101, resnet152, wide_resnet50_2\n",
    "\n",
    "original_models = \"/workspace/hd/original/\"\n",
    "tuned_models = \"/workspace/hd/tuned/\""
   ]
  },
  {
   "cell_type": "code",
   "execution_count": 5,
   "id": "c3d622ff-8d9f-456f-96ec-04f785140bf3",
   "metadata": {},
   "outputs": [],
   "source": [
    "import torchbearer\n",
    "from torchbearer import Trial\n",
    "\n",
    "def test_model(model, loader):\n",
    "    device = \"cuda:0\" if torch.cuda.is_available() else \"cpu\"\n",
    "    trial = Trial(model, metrics=['accuracy']).to(device)\n",
    "    trial.with_test_generator(loader)\n",
    "    results = trial.evaluate(data_key=torchbearer.TEST_DATA, verbose=0)\n",
    "    \n",
    "    print(results)\n",
    "\n",
    "test_loader = utils.get_loader()\n",
    "test_loader_corrupt = utils.get_corrupt_loader()"
   ]
  },
  {
   "cell_type": "code",
   "execution_count": 6,
   "id": "05289cd0-b907-4833-b138-3988c0b442cd",
   "metadata": {},
   "outputs": [
    {
     "name": "stdout",
     "output_type": "stream",
     "text": [
      "model loaded\n",
      "model loaded\n",
      "{'test_acc': 0.6315000057220459}\n",
      "{'test_acc': 0.6437999606132507}\n",
      "{'test_acc': 0.5873000025749207}\n",
      "{'test_acc': 0.6060999631881714}\n"
     ]
    }
   ],
   "source": [
    "resnet50_ood = resnet50(pretrained=True)\n",
    "resnet50_id = resnet50(pretrained=True)\n",
    "resnet50_id = utils.load_state_dict(\n",
    "    tuned_models + \"resnet50_imagenet1000_lr0.001_epochs30_step10_checkpoint_best.pth.tar\", \n",
    "    resnet50_id\n",
    ")\n",
    "\n",
    "test_model(resnet50_ood, test_loader)\n",
    "test_model(resnet50_id, test_loader)\n",
    "\n",
    "test_model(resnet50_ood, test_loader_corrupt)\n",
    "test_model(resnet50_id, test_loader_corrupt)"
   ]
  },
  {
   "cell_type": "code",
   "execution_count": null,
   "id": "c678917e-cd7f-4f81-b0fa-6ddd5a864819",
   "metadata": {},
   "outputs": [],
   "source": []
  }
 ],
 "metadata": {
  "kernelspec": {
   "display_name": "Python 3 (ipykernel)",
   "language": "python",
   "name": "python3"
  },
  "language_info": {
   "codemirror_mode": {
    "name": "ipython",
    "version": 3
   },
   "file_extension": ".py",
   "mimetype": "text/x-python",
   "name": "python",
   "nbconvert_exporter": "python",
   "pygments_lexer": "ipython3",
   "version": "3.12.9"
  }
 },
 "nbformat": 4,
 "nbformat_minor": 5
}
