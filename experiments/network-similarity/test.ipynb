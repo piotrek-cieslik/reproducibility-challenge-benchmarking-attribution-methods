{
 "cells": [
  {
   "cell_type": "code",
   "execution_count": 2,
   "id": "205762c9-72a6-4351-88a1-8eaad94246d7",
   "metadata": {},
   "outputs": [
    {
     "name": "stdout",
     "output_type": "stream",
     "text": [
      "2.4.1+gitb303096\n",
      "Cuda: torch.cuda.is_available()\n",
      "device name [0]: AMD Radeon RX 6700 XT\n"
     ]
    }
   ],
   "source": [
    "import torch, torchvision\n",
    "print(torch.__version__)\n",
    "print(f\"Cuda: torch.cuda.is_available()\")\n",
    "print(f\"device name [0]:\", torch.cuda.get_device_name(0))"
   ]
  }
 ],
 "metadata": {
  "kernelspec": {
   "display_name": "Python 3 (ipykernel)",
   "language": "python",
   "name": "python3"
  },
  "language_info": {
   "codemirror_mode": {
    "name": "ipython",
    "version": 3
   },
   "file_extension": ".py",
   "mimetype": "text/x-python",
   "name": "python",
   "nbconvert_exporter": "python",
   "pygments_lexer": "ipython3",
   "version": "3.12.9"
  }
 },
 "nbformat": 4,
 "nbformat_minor": 5
}
